{
 "cells": [
  {
   "cell_type": "code",
   "execution_count": 1,
   "id": "51749200",
   "metadata": {},
   "outputs": [
    {
     "name": "stdout",
     "output_type": "stream",
     "text": [
      "Starting Spark application\n"
     ]
    },
    {
     "data": {
      "text/html": [
       "<table>\n",
       "<tr><th>ID</th><th>YARN Application ID</th><th>Kind</th><th>State</th><th>Spark UI</th><th>Driver log</th><th>User</th><th>Current session?</th></tr><tr><td>4</td><td>application_1668662209269_0005</td><td>pyspark</td><td>idle</td><td><a target=\"_blank\" href=\"http://ip-172-31-13-224.ap-southeast-1.compute.internal:20888/proxy/application_1668662209269_0005/\">Link</a></td><td><a target=\"_blank\" href=\"http://ip-172-31-13-224.ap-southeast-1.compute.internal:8042/node/containerlogs/container_1668662209269_0005_01_000001/livy\">Link</a></td><td>None</td><td>✔</td></tr></table>"
      ],
      "text/plain": [
       "<IPython.core.display.HTML object>"
      ]
     },
     "metadata": {},
     "output_type": "display_data"
    },
    {
     "data": {
      "application/vnd.jupyter.widget-view+json": {
       "model_id": "",
       "version_major": 2,
       "version_minor": 0
      },
      "text/plain": [
       "FloatProgress(value=0.0, bar_style='info', description='Progress:', layout=Layout(height='25px', width='50%'),…"
      ]
     },
     "metadata": {},
     "output_type": "display_data"
    },
    {
     "name": "stdout",
     "output_type": "stream",
     "text": [
      "SparkSession available as 'spark'.\n"
     ]
    },
    {
     "data": {
      "application/vnd.jupyter.widget-view+json": {
       "model_id": "",
       "version_major": 2,
       "version_minor": 0
      },
      "text/plain": [
       "FloatProgress(value=0.0, bar_style='info', description='Progress:', layout=Layout(height='25px', width='50%'),…"
      ]
     },
     "metadata": {},
     "output_type": "display_data"
    },
    {
     "name": "stdout",
     "output_type": "stream",
     "text": [
      "<pyspark.sql.session.SparkSession object at 0x7f5cd6916250>"
     ]
    }
   ],
   "source": [
    "spark"
   ]
  },
  {
   "cell_type": "code",
   "execution_count": 18,
   "id": "70868959",
   "metadata": {},
   "outputs": [
    {
     "data": {
      "application/vnd.jupyter.widget-view+json": {
       "model_id": "",
       "version_major": 2,
       "version_minor": 0
      },
      "text/plain": [
       "FloatProgress(value=0.0, bar_style='info', description='Progress:', layout=Layout(height='25px', width='50%'),…"
      ]
     },
     "metadata": {},
     "output_type": "display_data"
    }
   ],
   "source": [
    "from pyspark.conf import SparkConf\n",
    "from pyspark.sql.functions import sha2, concat_ws\n",
    "from pyspark.sql.types import DecimalType\n",
    "from pyspark.sql.functions import year, month, dayofmonth\n",
    "from pyspark.sql.functions import col"
   ]
  },
  {
   "cell_type": "code",
   "execution_count": 19,
   "id": "cbf8b5ef",
   "metadata": {},
   "outputs": [
    {
     "data": {
      "application/vnd.jupyter.widget-view+json": {
       "model_id": "",
       "version_major": 2,
       "version_minor": 0
      },
      "text/plain": [
       "FloatProgress(value=0.0, bar_style='info', description='Progress:', layout=Layout(height='25px', width='50%'),…"
      ]
     },
     "metadata": {},
     "output_type": "display_data"
    }
   ],
   "source": [
    "conf = SparkConf() "
   ]
  },
  {
   "cell_type": "code",
   "execution_count": 37,
   "id": "5d9380e5",
   "metadata": {},
   "outputs": [
    {
     "data": {
      "application/vnd.jupyter.widget-view+json": {
       "model_id": "",
       "version_major": 2,
       "version_minor": 0
      },
      "text/plain": [
       "FloatProgress(value=0.0, bar_style='info', description='Progress:', layout=Layout(height='25px', width='50%'),…"
      ]
     },
     "metadata": {},
     "output_type": "display_data"
    },
    {
     "name": "stdout",
     "output_type": "stream",
     "text": [
      "'s3://shibi-lz-07/configuration/app-config.json'"
     ]
    }
   ],
   "source": [
    "# Fetching the app config path\n",
    "conf.get(\"spark.path\")"
   ]
  },
  {
   "cell_type": "code",
   "execution_count": 38,
   "id": "0d00467c",
   "metadata": {},
   "outputs": [
    {
     "data": {
      "application/vnd.jupyter.widget-view+json": {
       "model_id": "",
       "version_major": 2,
       "version_minor": 0
      },
      "text/plain": [
       "FloatProgress(value=0.0, bar_style='info', description='Progress:', layout=Layout(height='25px', width='50%'),…"
      ]
     },
     "metadata": {},
     "output_type": "display_data"
    }
   ],
   "source": [
    "# Converting it into the spark dataframe\n",
    "appconfig_df=spark.read.option(\"multiline\",\"true\").format(\"JSON\").load(conf.get(\"spark.path\"))"
   ]
  },
  {
   "cell_type": "code",
   "execution_count": 39,
   "id": "a380e40e",
   "metadata": {},
   "outputs": [
    {
     "data": {
      "application/vnd.jupyter.widget-view+json": {
       "model_id": "",
       "version_major": 2,
       "version_minor": 0
      },
      "text/plain": [
       "FloatProgress(value=0.0, bar_style='info', description='Progress:', layout=Layout(height='25px', width='50%'),…"
      ]
     },
     "metadata": {},
     "output_type": "display_data"
    },
    {
     "name": "stdout",
     "output_type": "stream",
     "text": [
      "+--------------------+--------------------+--------------------+--------------------+\n",
      "|             actives|       final-actives|    final-viewership|          viewership|\n",
      "+--------------------+--------------------+--------------------+--------------------+\n",
      "|[[s3://shibi-rz-0...|[[s3://shibi-sz-0...|[[s3://shibi-sz-0...|[[s3://shibi-rz-0...|\n",
      "+--------------------+--------------------+--------------------+--------------------+"
     ]
    }
   ],
   "source": [
    "# Got the individual path respectively\n",
    "appconfig_df.show()"
   ]
  },
  {
   "cell_type": "code",
   "execution_count": 73,
   "id": "feca2920",
   "metadata": {},
   "outputs": [
    {
     "data": {
      "application/vnd.jupyter.widget-view+json": {
       "model_id": "",
       "version_major": 2,
       "version_minor": 0
      },
      "text/plain": [
       "FloatProgress(value=0.0, bar_style='info', description='Progress:', layout=Layout(height='25px', width='50%'),…"
      ]
     },
     "metadata": {},
     "output_type": "display_data"
    }
   ],
   "source": [
    "class SparkJob:\n",
    "    def __init__(self,rawactive,rawviewership):\n",
    "        self.rawactive=rawactive\n",
    "        self.rawviewership=rawviewership\n",
    "    def find(path):\n",
    "        \n",
    "    def readRawzone(self):\n",
    "        raw_actives=spark.read.option(\"header\",True).option(\"inferSchema\",True).parquet(self.rawactive)\n",
    "        raw_viewership=spark.read.option(\"header\",True).option(\"inferSchema\",True).parquet(self.rawviewership)\n",
    "        return raw_actives,raw_viewership\n",
    "    def maskingcolumns(self,active_df,viewership_df,column1,column2):\n",
    "        masked_actives=active_df.withColumn(\"masked_advertising_id\", sha2(active_df[column1], 256))\n",
    "        masked_actives=masked_actives.withColumn(\"masked_user_id\", sha2(masked_actives[column2], 256))\n",
    "        masked_viewership=viewership_df.withColumn(\"masking_advertise_id\", sha2(concat_ws(\"||\", viewership_df[column1]), 256))\n",
    "        return masked_actives,masked_viewership\n",
    "    def transformDecimalPrecison(self,active_df,viewership_df,column1,column2,column3,column4,precision):\n",
    "        transformed_actives=active_df.withColumn(\"user_latitude\", active_df[column1].cast(DecimalType(precision)))\n",
    "        transformed_actives=transformed_actives.withColumn(\"user_longitude\", transformed_actives[column2].cast(DecimalType(precision)))\n",
    "        transformed_viewership=viewership_df.withColumn(\"user_lat\", viewership_df[column3].cast(DecimalType(precision)))\n",
    "        transformed_viewership=transformed_viewership.withColumn(\"user_long\", transformed_viewership[column4].cast(DecimalType(precision)))\n",
    "        return transformed_actives,transformed_viewership\n",
    "    def Partitionandstagingzone(self,active_df,viewership_df,actives_sz_path,viewership_sz_path):\n",
    "        active_df.withColumn(\"year\", year(col(\"date\"))).withColumn(\"day\", dayofmonth(col(\"date\"))).write.partitionBy('year','month','day').mode('Overwrite').parquet(actives_sz_path)\n",
    "        viewership_df.withColumn(\"year\", year(col(\"date\"))).withColumn(\"day\", dayofmonth(col(\"date\"))).write.partitionBy('year','month','day').mode('Overwrite').parquet(viewership_sz_path)"
   ]
  },
  {
   "cell_type": "code",
   "execution_count": 76,
   "id": "535b1f05",
   "metadata": {},
   "outputs": [
    {
     "data": {
      "application/vnd.jupyter.widget-view+json": {
       "model_id": "",
       "version_major": 2,
       "version_minor": 0
      },
      "text/plain": [
       "FloatProgress(value=0.0, bar_style='info', description='Progress:', layout=Layout(height='25px', width='50%'),…"
      ]
     },
     "metadata": {},
     "output_type": "display_data"
    },
    {
     "name": "stdout",
     "output_type": "stream",
     "text": [
      "Row(data-location='s3://shibi-sz-07/actives', file-format='parquet')\n",
      "['advertising_id', 'user_id']\n",
      "['month', 'date']\n",
      "Row(data-location='s3://shibi-rz-07/actives', file-format='parquet')\n",
      "Row(cols=['user_latitude', 'user_longitude', 'location_source'], precision='7')"
     ]
    }
   ],
   "source": [
    "for i in range(5):\n",
    "    print(appconfig_df.first()['final-actives'][i])"
   ]
  },
  {
   "cell_type": "code",
   "execution_count": 77,
   "id": "51dbc73d",
   "metadata": {},
   "outputs": [
    {
     "data": {
      "application/vnd.jupyter.widget-view+json": {
       "model_id": "",
       "version_major": 2,
       "version_minor": 0
      },
      "text/plain": [
       "FloatProgress(value=0.0, bar_style='info', description='Progress:', layout=Layout(height='25px', width='50%'),…"
      ]
     },
     "metadata": {},
     "output_type": "display_data"
    },
    {
     "name": "stdout",
     "output_type": "stream",
     "text": [
      "['user_lat', 'user_long', 'location_source']"
     ]
    }
   ],
   "source": [
    "# appconfig_df.first()['final-viewership'][4][0]"
   ]
  },
  {
   "cell_type": "code",
   "execution_count": 78,
   "id": "cdc473f2",
   "metadata": {},
   "outputs": [
    {
     "data": {
      "application/vnd.jupyter.widget-view+json": {
       "model_id": "",
       "version_major": 2,
       "version_minor": 0
      },
      "text/plain": [
       "FloatProgress(value=0.0, bar_style='info', description='Progress:', layout=Layout(height='25px', width='50%'),…"
      ]
     },
     "metadata": {},
     "output_type": "display_data"
    },
    {
     "name": "stdout",
     "output_type": "stream",
     "text": [
      "'s3://shibi-sz-07/actives'"
     ]
    }
   ],
   "source": [
    "# appconfig_df.first()['final-actives'][0][0]"
   ]
  },
  {
   "cell_type": "code",
   "execution_count": 79,
   "id": "308c5884",
   "metadata": {},
   "outputs": [
    {
     "data": {
      "application/vnd.jupyter.widget-view+json": {
       "model_id": "",
       "version_major": 2,
       "version_minor": 0
      },
      "text/plain": [
       "FloatProgress(value=0.0, bar_style='info', description='Progress:', layout=Layout(height='25px', width='50%'),…"
      ]
     },
     "metadata": {},
     "output_type": "display_data"
    },
    {
     "name": "stdout",
     "output_type": "stream",
     "text": [
      "'s3://shibi-lz-07/Actives.parquet.snappy'"
     ]
    }
   ],
   "source": [
    "# appconfig_df.first()['actives'][1][0]"
   ]
  },
  {
   "cell_type": "code",
   "execution_count": 80,
   "id": "0b17c411",
   "metadata": {},
   "outputs": [
    {
     "data": {
      "application/vnd.jupyter.widget-view+json": {
       "model_id": "",
       "version_major": 2,
       "version_minor": 0
      },
      "text/plain": [
       "FloatProgress(value=0.0, bar_style='info', description='Progress:', layout=Layout(height='25px', width='50%'),…"
      ]
     },
     "metadata": {},
     "output_type": "display_data"
    }
   ],
   "source": [
    "obj=SparkJob(appconfig_df.first()['actives'][1][0],appconfig_df.first()['viewership'][1][0])"
   ]
  },
  {
   "cell_type": "code",
   "execution_count": 75,
   "id": "ebbc1f2b",
   "metadata": {},
   "outputs": [
    {
     "data": {
      "application/vnd.jupyter.widget-view+json": {
       "model_id": "",
       "version_major": 2,
       "version_minor": 0
      },
      "text/plain": [
       "FloatProgress(value=0.0, bar_style='info', description='Progress:', layout=Layout(height='25px', width='50%'),…"
      ]
     },
     "metadata": {},
     "output_type": "display_data"
    }
   ],
   "source": [
    "active,viewership=obj.readRawzone()\n",
    "active,viewership=obj.maskingcolumns(active,viewership,appconfig_df.first()['final-actives'][1][0],appconfig_df.first()['final-actives'][1][1])\n",
    "active,viewership=obj.transformDecimalPrecison(active,viewership,appconfig_df.first()['final-actives'][4][0][0],appconfig_df.first()['final-actives'][4][0][1],appconfig_df.first()['final-viewership'][4][0][0],appconfig_df.first()['final-viewership'][4][0][1],int(appconfig_df.first()['final-viewership'][4][1]))\n",
    "obj.Partitionandstagingzone(active,viewership,appconfig_df.first()['final-actives'][0][0],appconfig_df.first()['final-viewership'][0][0])"
   ]
  }
 ],
 "metadata": {
  "kernelspec": {
   "display_name": "PySpark",
   "language": "python",
   "name": "pysparkkernel"
  },
  "language_info": {
   "codemirror_mode": {
    "name": "python",
    "version": 3
   },
   "file_extension": ".py",
   "mimetype": "text/x-python",
   "name": "pyspark",
   "pygments_lexer": "python3"
  }
 },
 "nbformat": 4,
 "nbformat_minor": 5
}
