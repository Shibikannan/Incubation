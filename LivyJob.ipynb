{
 "cells": [
  {
   "cell_type": "code",
   "execution_count": 10,
   "id": "835ad4a9-badf-46e4-b5bd-9156ba9d7822",
   "metadata": {
    "execution": {
     "iopub.execute_input": "2022-11-21T09:18:07.129705Z",
     "iopub.status.busy": "2022-11-21T09:18:07.129480Z",
     "iopub.status.idle": "2022-11-21T09:18:07.144435Z",
     "shell.execute_reply": "2022-11-21T09:18:07.143859Z",
     "shell.execute_reply.started": "2022-11-21T09:18:07.129681Z"
    },
    "tags": []
   },
   "outputs": [
    {
     "name": "stdout",
     "output_type": "stream",
     "text": [
      "{'id': 5, 'name': None, 'owner': None, 'proxyUser': None, 'state': 'starting', 'appId': None, 'appInfo': {'driverLogUrl': None, 'sparkUiUrl': None}, 'log': ['stdout: ', '\\nstderr: ', '\\nYARN Diagnostics: ']}\n"
     ]
    }
   ],
   "source": [
    "import json, requests\n",
    "  \n",
    "livy_host=\"http://ec2-18-143-192-24.ap-southeast-1.compute.amazonaws.com:8998\"\n",
    " \n",
    "data = {'file': 's3://shibi-lz-07/Spark-Job.py',\n",
    "        'driverMemory': '512m',\n",
    "        'executorMemory': '1g'}\n",
    " \n",
    "headers = {'Content-Type': 'application/json'}\n",
    "  \n",
    "r = requests.post(livy_host + '/batches', data=json.dumps(data), headers=headers)\n",
    "  \n",
    "print(r.json())"
   ]
  }
 ],
 "metadata": {
  "kernelspec": {
   "display_name": "Python 3",
   "language": "python",
   "name": "python3"
  },
  "language_info": {
   "codemirror_mode": {
    "name": "ipython",
    "version": 3
   },
   "file_extension": ".py",
   "mimetype": "text/x-python",
   "name": "python",
   "nbconvert_exporter": "python",
   "pygments_lexer": "ipython3",
   "version": "3.7.4"
  }
 },
 "nbformat": 4,
 "nbformat_minor": 5
}
