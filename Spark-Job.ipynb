{
 "cells": [
  {
   "cell_type": "code",
   "execution_count": 1,
   "id": "51749200",
   "metadata": {},
   "outputs": [
    {
     "name": "stdout",
     "output_type": "stream",
     "text": [
      "Starting Spark application\n"
     ]
    },
    {
     "data": {
      "text/html": [
       "<table>\n",
       "<tr><th>ID</th><th>YARN Application ID</th><th>Kind</th><th>State</th><th>Spark UI</th><th>Driver log</th><th>User</th><th>Current session?</th></tr><tr><td>0</td><td>application_1668779120784_0001</td><td>pyspark</td><td>idle</td><td><a target=\"_blank\" href=\"http://ip-172-31-6-201.ap-southeast-1.compute.internal:20888/proxy/application_1668779120784_0001/\">Link</a></td><td><a target=\"_blank\" href=\"http://ip-172-31-6-201.ap-southeast-1.compute.internal:8042/node/containerlogs/container_1668779120784_0001_01_000001/livy\">Link</a></td><td>None</td><td>✔</td></tr></table>"
      ],
      "text/plain": [
       "<IPython.core.display.HTML object>"
      ]
     },
     "metadata": {},
     "output_type": "display_data"
    },
    {
     "data": {
      "application/vnd.jupyter.widget-view+json": {
       "model_id": "",
       "version_major": 2,
       "version_minor": 0
      },
      "text/plain": [
       "FloatProgress(value=0.0, bar_style='info', description='Progress:', layout=Layout(height='25px', width='50%'),…"
      ]
     },
     "metadata": {},
     "output_type": "display_data"
    },
    {
     "name": "stdout",
     "output_type": "stream",
     "text": [
      "SparkSession available as 'spark'.\n"
     ]
    },
    {
     "data": {
      "application/vnd.jupyter.widget-view+json": {
       "model_id": "",
       "version_major": 2,
       "version_minor": 0
      },
      "text/plain": [
       "FloatProgress(value=0.0, bar_style='info', description='Progress:', layout=Layout(height='25px', width='50%'),…"
      ]
     },
     "metadata": {},
     "output_type": "display_data"
    },
    {
     "name": "stdout",
     "output_type": "stream",
     "text": [
      "<pyspark.sql.session.SparkSession object at 0x7f7660c3e250>"
     ]
    }
   ],
   "source": [
    "spark"
   ]
  },
  {
   "cell_type": "code",
   "execution_count": 2,
   "id": "70868959",
   "metadata": {},
   "outputs": [
    {
     "data": {
      "application/vnd.jupyter.widget-view+json": {
       "model_id": "",
       "version_major": 2,
       "version_minor": 0
      },
      "text/plain": [
       "FloatProgress(value=0.0, bar_style='info', description='Progress:', layout=Layout(height='25px', width='50%'),…"
      ]
     },
     "metadata": {},
     "output_type": "display_data"
    }
   ],
   "source": [
    "from pyspark.conf import SparkConf\n",
    "from pyspark.sql.functions import sha2, concat_ws\n",
    "from pyspark.sql.types import DecimalType\n",
    "from pyspark.sql.functions import year, month, dayofmonth\n",
    "from pyspark.sql.functions import col"
   ]
  },
  {
   "cell_type": "code",
   "execution_count": 3,
   "id": "cbf8b5ef",
   "metadata": {},
   "outputs": [
    {
     "data": {
      "application/vnd.jupyter.widget-view+json": {
       "model_id": "",
       "version_major": 2,
       "version_minor": 0
      },
      "text/plain": [
       "FloatProgress(value=0.0, bar_style='info', description='Progress:', layout=Layout(height='25px', width='50%'),…"
      ]
     },
     "metadata": {},
     "output_type": "display_data"
    }
   ],
   "source": [
    "conf = SparkConf()"
   ]
  },
  {
   "cell_type": "code",
   "execution_count": 4,
   "id": "5d9380e5",
   "metadata": {},
   "outputs": [
    {
     "data": {
      "application/vnd.jupyter.widget-view+json": {
       "model_id": "",
       "version_major": 2,
       "version_minor": 0
      },
      "text/plain": [
       "FloatProgress(value=0.0, bar_style='info', description='Progress:', layout=Layout(height='25px', width='50%'),…"
      ]
     },
     "metadata": {},
     "output_type": "display_data"
    },
    {
     "name": "stdout",
     "output_type": "stream",
     "text": [
      "'s3://shibi-lz-07/configuration/app-config.json'"
     ]
    }
   ],
   "source": [
    "# Fetching the app config path\n",
    "conf.get(\"spark.path\")"
   ]
  },
  {
   "cell_type": "code",
   "execution_count": 5,
   "id": "0d00467c",
   "metadata": {},
   "outputs": [
    {
     "data": {
      "application/vnd.jupyter.widget-view+json": {
       "model_id": "",
       "version_major": 2,
       "version_minor": 0
      },
      "text/plain": [
       "FloatProgress(value=0.0, bar_style='info', description='Progress:', layout=Layout(height='25px', width='50%'),…"
      ]
     },
     "metadata": {},
     "output_type": "display_data"
    }
   ],
   "source": [
    "# Converting it into the spark dataframe\n",
    "appconfig_df=spark.read.option(\"multiline\",\"true\").format(\"JSON\").load(conf.get(\"spark.path\"))"
   ]
  },
  {
   "cell_type": "code",
   "execution_count": 6,
   "id": "a380e40e",
   "metadata": {},
   "outputs": [
    {
     "data": {
      "application/vnd.jupyter.widget-view+json": {
       "model_id": "",
       "version_major": 2,
       "version_minor": 0
      },
      "text/plain": [
       "FloatProgress(value=0.0, bar_style='info', description='Progress:', layout=Layout(height='25px', width='50%'),…"
      ]
     },
     "metadata": {},
     "output_type": "display_data"
    },
    {
     "name": "stdout",
     "output_type": "stream",
     "text": [
      "+--------------------+--------------------+--------------------+--------------------+\n",
      "|             actives|       final-actives|    final-viewership|          viewership|\n",
      "+--------------------+--------------------+--------------------+--------------------+\n",
      "|[[s3://shibi-rz-0...|[[s3://shibi-sz-0...|[[s3://shibi-sz-0...|[[s3://shibi-rz-0...|\n",
      "+--------------------+--------------------+--------------------+--------------------+"
     ]
    }
   ],
   "source": [
    "# Got the individual path respectively\n",
    "appconfig_df.show()"
   ]
  },
  {
   "cell_type": "code",
   "execution_count": 16,
   "id": "feca2920",
   "metadata": {},
   "outputs": [
    {
     "data": {
      "application/vnd.jupyter.widget-view+json": {
       "model_id": "",
       "version_major": 2,
       "version_minor": 0
      },
      "text/plain": [
       "FloatProgress(value=0.0, bar_style='info', description='Progress:', layout=Layout(height='25px', width='50%'),…"
      ]
     },
     "metadata": {},
     "output_type": "display_data"
    }
   ],
   "source": [
    "class SparkJob:\n",
    "    def __init__(self,LandingPath,RawPath):\n",
    "        self.LandingPath=LandingPath\n",
    "        self.RawPath=RawPath\n",
    "    def LandingToRaw(self):\n",
    "        spark.read.parquet(self.LandingPath).write.mode('overwrite').parquet(self.RawPath)\n",
    "        rawdata=spark.read.parquet(self.RawPath)\n",
    "        return rawdata\n",
    "    def masking(self,data,columns):\n",
    "        for column in columns:\n",
    "            masked_data=data.withColumn(\"masked_\"+column, sha2(data[column], 256))\n",
    "            print('masking is done')\n",
    "        return masked_data\n",
    "    def transformation(self,data,precision,*columns):\n",
    "        for column in columns:\n",
    "            transformed_data=data.withColumn(column, data[column].cast(DecimalType(precision)))\n",
    "            print('transformation is done')\n",
    "        return transformed_data\n",
    "    def partitionandstaging(self,data,stazing_zone_path):\n",
    "        data.withColumn(\"year\", year(col(\"date\"))).withColumn(\"day\", dayofmonth(col(\"date\"))).write.partitionBy('year','month','day').mode('Overwrite').parquet(stazing_zone_path)\n",
    "        "
   ]
  },
  {
   "cell_type": "code",
   "execution_count": 6,
   "id": "535b1f05",
   "metadata": {},
   "outputs": [
    {
     "data": {
      "application/vnd.jupyter.widget-view+json": {
       "model_id": "",
       "version_major": 2,
       "version_minor": 0
      },
      "text/plain": [
       "FloatProgress(value=0.0, bar_style='info', description='Progress:', layout=Layout(height='25px', width='50%'),…"
      ]
     },
     "metadata": {},
     "output_type": "display_data"
    }
   ],
   "source": [
    "# for i in range(5):\n",
    "#     print(appconfig_df.first()['final-actives'][i])"
   ]
  },
  {
   "cell_type": "code",
   "execution_count": 3,
   "id": "51dbc73d",
   "metadata": {},
   "outputs": [
    {
     "data": {
      "application/vnd.jupyter.widget-view+json": {
       "model_id": "",
       "version_major": 2,
       "version_minor": 0
      },
      "text/plain": [
       "FloatProgress(value=0.0, bar_style='info', description='Progress:', layout=Layout(height='25px', width='50%'),…"
      ]
     },
     "metadata": {},
     "output_type": "display_data"
    }
   ],
   "source": [
    "# appconfig_df.first()['final-viewership'][4][0]"
   ]
  },
  {
   "cell_type": "code",
   "execution_count": 4,
   "id": "cdc473f2",
   "metadata": {},
   "outputs": [
    {
     "data": {
      "application/vnd.jupyter.widget-view+json": {
       "model_id": "",
       "version_major": 2,
       "version_minor": 0
      },
      "text/plain": [
       "FloatProgress(value=0.0, bar_style='info', description='Progress:', layout=Layout(height='25px', width='50%'),…"
      ]
     },
     "metadata": {},
     "output_type": "display_data"
    }
   ],
   "source": [
    "# appconfig_df.first()['final-actives'][0][0]"
   ]
  },
  {
   "cell_type": "code",
   "execution_count": 12,
   "id": "308c5884",
   "metadata": {},
   "outputs": [
    {
     "data": {
      "application/vnd.jupyter.widget-view+json": {
       "model_id": "",
       "version_major": 2,
       "version_minor": 0
      },
      "text/plain": [
       "FloatProgress(value=0.0, bar_style='info', description='Progress:', layout=Layout(height='25px', width='50%'),…"
      ]
     },
     "metadata": {},
     "output_type": "display_data"
    },
    {
     "name": "stdout",
     "output_type": "stream",
     "text": [
      "'s3://shibi-rz-07/actives'"
     ]
    }
   ],
   "source": [
    "# obj=SparkJob(appconfig_df.first()[i][1][0])\n",
    "# rawdata=obj.readRawData()\n",
    "# appconfig_df.first()['final-'+i][4][0][0]\n",
    "# appconfig_df.first()['final-'+i][4][0]\n",
    "# appconfig_df.first()['final-'+i][1]\n",
    "appconfig_df.first()['actives'][0][0]"
   ]
  },
  {
   "cell_type": "code",
   "execution_count": 17,
   "id": "0b17c411",
   "metadata": {},
   "outputs": [
    {
     "data": {
      "application/vnd.jupyter.widget-view+json": {
       "model_id": "",
       "version_major": 2,
       "version_minor": 0
      },
      "text/plain": [
       "FloatProgress(value=0.0, bar_style='info', description='Progress:', layout=Layout(height='25px', width='50%'),…"
      ]
     },
     "metadata": {},
     "output_type": "display_data"
    },
    {
     "name": "stdout",
     "output_type": "stream",
     "text": [
      "actives\n",
      "DataFrame[advertising_id: string, city: string, location_category: string, location_granularities: string, location_source: string, state: string, timestamp: string, user_id: string, user_latitude: double, user_longitude: double, date: timestamp, month: string]\n",
      "masking is done\n",
      "masking is done\n",
      "transformation is done\n",
      "transformation is done\n",
      "viewership\n",
      "DataFrame[advertising_id: string, channel_genre: string, channel_name: string, city: string, device: string, device_type: string, duration: bigint, grid_id: string, language: string, location_category: string, location_granularities: string, location_source: string, record_timestamp: string, show_genre: string, show_name: string, state: string, user_lat: double, user_long: double, date: timestamp, month: string]\n",
      "masking is done\n",
      "transformation is done\n",
      "transformation is done"
     ]
    }
   ],
   "source": [
    "datasets = ['actives','viewership']\n",
    "\n",
    "for i in datasets:\n",
    "    print(i)\n",
    "    obj=SparkJob(appconfig_df.first()[i][1][0],appconfig_df.first()[i][0][0])\n",
    "    try:\n",
    "        obj.LandingToRaw()\n",
    "    except:\n",
    "        print('No path existed for '+i)\n",
    "        continue\n",
    "    \n",
    "    rawdata=obj.LandingToRaw()\n",
    "#     for column in appconfig_df.first()['final-'+i][1]:\n",
    "    maskeddata=obj.masking(rawdata,appconfig_df.first()['final-'+i][1])\n",
    "    transformeddata=obj.transformation(maskeddata,int(appconfig_df.first()['final-'+i][4][1]),appconfig_df.first()['final-'+i][4][0][0],appconfig_df.first()['final-'+i][4][0][1])\n",
    "    obj.partitionandstaging(transformeddata,appconfig_df.first()['final-'+i][0][0])\n",
    "    "
   ]
  },
  {
   "cell_type": "code",
   "execution_count": null,
   "id": "ebbc1f2b",
   "metadata": {},
   "outputs": [],
   "source": []
  }
 ],
 "metadata": {
  "kernelspec": {
   "display_name": "PySpark",
   "language": "python",
   "name": "pysparkkernel"
  },
  "language_info": {
   "codemirror_mode": {
    "name": "python",
    "version": 3
   },
   "file_extension": ".py",
   "mimetype": "text/x-python",
   "name": "pyspark",
   "pygments_lexer": "python3"
  }
 },
 "nbformat": 4,
 "nbformat_minor": 5
}
